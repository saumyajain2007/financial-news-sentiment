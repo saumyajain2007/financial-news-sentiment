{
  "cells": [
    {
      "cell_type": "markdown",
      "metadata": {},
      "source": [
        "# Financial News Sentiment Analysis\n",
        "This notebook demonstrates scraping headlines for a ticker, classifying sentiment with VADER, and visualizing results."
      ]
    },
    {
      "cell_type": "code",
      "execution_count": null,
      "metadata": {},
      "outputs": [],
      "source": [
        "from src.scraper import fetch_news_headlines\n",
        "from src.sentiment import analyze_sentiment\n",
        "import matplotlib.pyplot as plt\n",
        "from wordcloud import WordCloud\n",
        "import pandas as pd\n",
        "\n",
        "ticker = 'AAPL'\n",
        "df = fetch_news_headlines(ticker, limit_per_source=8)\n",
        "df = analyze_sentiment(df)\n",
        "display(df[['source','headline','compound','sentiment']])\n",
        "# Pie chart\n",
        "counts = df['sentiment'].value_counts()\n",
        "fig, ax = plt.subplots(figsize=(6,4))\n",
        "counts.plot.pie(ax=ax, autopct='%1.1f%%')\n",
        "ax.set_ylabel('')\n",
        "ax.set_title(f'Sentiment distribution for {ticker}')\n",
        "plt.show()\n",
        "\n",
        "# Wordcloud\n",
        "text = ' '.join(df['headline'].tolist())\n",
        "wc = WordCloud(width=800, height=400).generate(text)\n",
        "fig, ax = plt.subplots(figsize=(10,4))\n",
        "ax.imshow(wc, interpolation='bilinear')\n",
        "ax.axis('off')\n",
        "plt.show()\n"
      ]
    }
  ],
  "metadata": {
    "kernelspec": {
      "display_name": "Python 3",
      "language": "python",
      "name": "python3"
    },
    "language_info": {
      "name": "python",
      "version": "3.10"
    }
  },
  "nbformat": 4,
  "nbformat_minor": 2
}